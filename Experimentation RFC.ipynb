{
 "cells": [
  {
   "cell_type": "markdown",
   "metadata": {},
   "source": [
    "# Data Science Boot Camp Unit 1 Capstone"
   ]
  },
  {
   "cell_type": "markdown",
   "metadata": {},
   "source": [
    "## Douglas H. Wood"
   ]
  },
  {
   "cell_type": "markdown",
   "metadata": {},
   "source": [
    "## Background - the Data"
   ]
  },
  {
   "cell_type": "markdown",
   "metadata": {},
   "source": [
    "The data set for this experiment consists of publicly-available files downloaded from the Citi Bike program website. The Citi Bike program began in 2013 in New York City and is now the largest bike share program in the United States. Users of the system can unlock bikes from a network of docking stations throughout the city, and return them to any other station in the system. There are now thousands of bikes and hundreds of stations citywide. \n",
    "The Citi Bike website makes available monthly files beginning in May 2013, when the program began, through the present. In order to describe the data, we will examine June and July of 2016, two months in the most recent full year of the program. The first task is to assemble a master data frame out of the monthly files downloaded from the web. "
   ]
  },
  {
   "cell_type": "code",
   "execution_count": 2,
   "metadata": {},
   "outputs": [],
   "source": [
    "import numpy as np\n",
    "import pandas as pd\n",
    "import scipy\n",
    "from scipy.stats import ttest_ind\n",
    "import matplotlib.pyplot as plt\n",
    "%matplotlib inline\n",
    "import statistics\n",
    "#Assemble master df ('df2016') for two months of 2016 by appending each monthly dataframe to a single dataframe.#\n",
    "df2016 = pd.DataFrame()\n",
    "for month in range(6,8):\n",
    "    filename = '2016{}-citibike-tripdata.csv'.format(month)\n",
    "    framename = pd.read_csv(filename)\n",
    "    df2016 = df2016.append(framename)"
   ]
  },
  {
   "cell_type": "markdown",
   "metadata": {},
   "source": [
    "Some basic features of the data set are as follows. The columns in the data set are:"
   ]
  },
  {
   "cell_type": "code",
   "execution_count": 17,
   "metadata": {},
   "outputs": [
    {
     "name": "stdout",
     "output_type": "stream",
     "text": [
      "Index(['tripduration', 'starttime', 'stoptime', 'start station id',\n",
      "       'start station name', 'start station latitude',\n",
      "       'start station longitude', 'end station id', 'end station name',\n",
      "       'end station latitude', 'end station longitude', 'bikeid', 'usertype',\n",
      "       'birth year', 'gender'],\n",
      "      dtype='object')\n"
     ]
    }
   ],
   "source": [
    "print(df2016.columns)"
   ]
  },
  {
   "cell_type": "markdown",
   "metadata": {},
   "source": [
    "How many rows of data are there?"
   ]
  },
  {
   "cell_type": "code",
   "execution_count": 18,
   "metadata": {},
   "outputs": [
    {
     "name": "stdout",
     "output_type": "stream",
     "text": [
      "2840428\n"
     ]
    }
   ],
   "source": [
    "print(len(df2016))"
   ]
  },
  {
   "cell_type": "markdown",
   "metadata": {},
   "source": [
    "That is 2,840,428 rows of data, indicating nearly 3 million user trips during this two-month period.\n",
    "One column is 'usertype.' \n",
    "What proportion of the users are short-term customers and how many are annual members?"
   ]
  },
  {
   "cell_type": "code",
   "execution_count": 19,
   "metadata": {},
   "outputs": [
    {
     "data": {
      "text/plain": [
       "usertype\n",
       "Customer       358723\n",
       "Subscriber    2481705\n",
       "Name: tripduration, dtype: int64"
      ]
     },
     "execution_count": 19,
     "metadata": {},
     "output_type": "execute_result"
    }
   ],
   "source": [
    "df2016.groupby('usertype').count().iloc[:,0]"
   ]
  },
  {
   "cell_type": "markdown",
   "metadata": {},
   "source": [
    "That is, 358,723 users are short-term customers, and 2,481,705 are annual subscribers to the system. Represented mathematically:"
   ]
  },
  {
   "cell_type": "code",
   "execution_count": 20,
   "metadata": {},
   "outputs": [
    {
     "data": {
      "text/plain": [
       "0.12629188277259623"
      ]
     },
     "execution_count": 20,
     "metadata": {},
     "output_type": "execute_result"
    }
   ],
   "source": [
    "358723/(358723 + 2481705)"
   ]
  },
  {
   "cell_type": "markdown",
   "metadata": {},
   "source": [
    "That is, 12.6% are short-term customers, while 87.4% are annual subscribers. Represented graphically:"
   ]
  },
  {
   "cell_type": "code",
   "execution_count": 31,
   "metadata": {},
   "outputs": [
    {
     "data": {
      "text/plain": [
       "Text(0.5,0.98,'Citi Bike User Types')"
      ]
     },
     "execution_count": 31,
     "metadata": {},
     "output_type": "execute_result"
    },
    {
     "data": {
      "image/png": "[encoded data removed]",
      "text/plain": [
       "<matplotlib.figure.Figure at 0x11045dda0>"
      ]
     },
     "metadata": {},
     "output_type": "display_data"
    }
   ],
   "source": [
    "# Data to plot\n",
    "labels = 'Short-term User', 'Annual Subscriber'\n",
    "num_users = [358723,2481705]\n",
    "colors = ['gold','lightskyblue']\n",
    "explode = (0.1, 0)  # explode 1st slice\n",
    " \n",
    "# Plot\n",
    "plt.pie(num_users, explode=explode, labels=labels, colors=colors,\n",
    "        autopct='%1.1f%%', shadow=True, startangle=140)\n",
    " \n",
    "plt.axis('equal')\n",
    "plt.suptitle('Citi Bike User Types', fontsize=12)"
   ]
  },
  {
   "cell_type": "markdown",
   "metadata": {},
   "source": [
    "Are the bikes 'migrating' to certain stations as relatively more trips end at those stations? From the perspective of the program operator, having bikes accumulate would require a system to return them from: stations at which relatively more trips end, and to: stations from which relatively more trips begin. Let us calculate how frequently each station is used as a start station and as a stop station."
   ]
  },
  {
   "cell_type": "code",
   "execution_count": 3,
   "metadata": {},
   "outputs": [
    {
     "data": {
      "text/html": [
       "<div>\n",
       "<style>\n",
       "    .dataframe thead tr:only-child th {\n",
       "        text-align: right;\n",
       "    }\n",
       "\n",
       "    .dataframe thead th {\n",
       "        text-align: left;\n",
       "    }\n",
       "\n",
       "    .dataframe tbody tr th {\n",
       "        vertical-align: top;\n",
       "    }\n",
       "</style>\n",
       "<table border=\"1\" class=\"dataframe\">\n",
       "  <thead>\n",
       "    <tr style=\"text-align: right;\">\n",
       "      <th></th>\n",
       "      <th>Start Count</th>\n",
       "      <th>Stop Count</th>\n",
       "    </tr>\n",
       "    <tr>\n",
       "      <th>start station id</th>\n",
       "      <th></th>\n",
       "      <th></th>\n",
       "    </tr>\n",
       "  </thead>\n",
       "  <tbody>\n",
       "    <tr>\n",
       "      <th>72</th>\n",
       "      <td>7633</td>\n",
       "      <td>7589</td>\n",
       "    </tr>\n",
       "    <tr>\n",
       "      <th>79</th>\n",
       "      <td>5929</td>\n",
       "      <td>5974</td>\n",
       "    </tr>\n",
       "    <tr>\n",
       "      <th>82</th>\n",
       "      <td>2632</td>\n",
       "      <td>2597</td>\n",
       "    </tr>\n",
       "    <tr>\n",
       "      <th>83</th>\n",
       "      <td>2895</td>\n",
       "      <td>3266</td>\n",
       "    </tr>\n",
       "    <tr>\n",
       "      <th>116</th>\n",
       "      <td>12930</td>\n",
       "      <td>13106</td>\n",
       "    </tr>\n",
       "  </tbody>\n",
       "</table>\n",
       "</div>"
      ],
      "text/plain": [
       "                  Start Count  Stop Count\n",
       "start station id                         \n",
       "72                       7633        7589\n",
       "79                       5929        5974\n",
       "82                       2632        2597\n",
       "83                       2895        3266\n",
       "116                     12930       13106"
      ]
     },
     "execution_count": 3,
     "metadata": {},
     "output_type": "execute_result"
    }
   ],
   "source": [
    "start_count = df2016.groupby('start station id').count().iloc[:,0]\n",
    "stop_count = df2016.groupby('end station id').count().iloc[:,0]\n",
    "df_start_stop = pd.DataFrame(start_count)\n",
    "df_start_stop.columns = ['Start Count']\n",
    "df_start_stop = df_start_stop.join(stop_count)\n",
    "df_start_stop.columns = ['Start Count','Stop Count']\n",
    "df_start_stop.head()"
   ]
  },
  {
   "cell_type": "markdown",
   "metadata": {},
   "source": [
    "Summing the two columns:"
   ]
  },
  {
   "cell_type": "code",
   "execution_count": 22,
   "metadata": {},
   "outputs": [
    {
     "data": {
      "text/plain": [
       "Start Count    2840428\n",
       "Stop Count     2840398\n",
       "dtype: int64"
      ]
     },
     "execution_count": 22,
     "metadata": {},
     "output_type": "execute_result"
    }
   ],
   "source": [
    "df_start_stop.sum()"
   ]
  },
  {
   "cell_type": "markdown",
   "metadata": {},
   "source": [
    "Since the sum of the two columns is almost the same, the system is essentially \"closed.\" Very few bikes are leaving the system - in this case, only 30 out of 2,840,428. Those bikes may require repair, or be stolen, or possibly are not logged in to an end station because they were out in use when the start and stop counts were taken."
   ]
  },
  {
   "cell_type": "code",
   "execution_count": 4,
   "metadata": {},
   "outputs": [
    {
     "data": {
      "text/html": [
       "<div>\n",
       "<style>\n",
       "    .dataframe thead tr:only-child th {\n",
       "        text-align: right;\n",
       "    }\n",
       "\n",
       "    .dataframe thead th {\n",
       "        text-align: left;\n",
       "    }\n",
       "\n",
       "    .dataframe tbody tr th {\n",
       "        vertical-align: top;\n",
       "    }\n",
       "</style>\n",
       "<table border=\"1\" class=\"dataframe\">\n",
       "  <thead>\n",
       "    <tr style=\"text-align: right;\">\n",
       "      <th></th>\n",
       "      <th>Start Count</th>\n",
       "      <th>Stop Count</th>\n",
       "      <th>Deficit</th>\n",
       "    </tr>\n",
       "    <tr>\n",
       "      <th>start station id</th>\n",
       "      <th></th>\n",
       "      <th></th>\n",
       "      <th></th>\n",
       "    </tr>\n",
       "  </thead>\n",
       "  <tbody>\n",
       "    <tr>\n",
       "      <th>72</th>\n",
       "      <td>7633</td>\n",
       "      <td>7589</td>\n",
       "      <td>44</td>\n",
       "    </tr>\n",
       "    <tr>\n",
       "      <th>79</th>\n",
       "      <td>5929</td>\n",
       "      <td>5974</td>\n",
       "      <td>-45</td>\n",
       "    </tr>\n",
       "    <tr>\n",
       "      <th>82</th>\n",
       "      <td>2632</td>\n",
       "      <td>2597</td>\n",
       "      <td>35</td>\n",
       "    </tr>\n",
       "    <tr>\n",
       "      <th>83</th>\n",
       "      <td>2895</td>\n",
       "      <td>3266</td>\n",
       "      <td>-371</td>\n",
       "    </tr>\n",
       "    <tr>\n",
       "      <th>116</th>\n",
       "      <td>12930</td>\n",
       "      <td>13106</td>\n",
       "      <td>-176</td>\n",
       "    </tr>\n",
       "  </tbody>\n",
       "</table>\n",
       "</div>"
      ],
      "text/plain": [
       "                  Start Count  Stop Count  Deficit\n",
       "start station id                                  \n",
       "72                       7633        7589       44\n",
       "79                       5929        5974      -45\n",
       "82                       2632        2597       35\n",
       "83                       2895        3266     -371\n",
       "116                     12930       13106     -176"
      ]
     },
     "execution_count": 4,
     "metadata": {},
     "output_type": "execute_result"
    }
   ],
   "source": [
    "df_start_stop['Deficit'] = df_start_stop['Start Count'] - df_start_stop['Stop Count']\n",
    "df_start_stop.head()"
   ]
  },
  {
   "cell_type": "markdown",
   "metadata": {},
   "source": [
    "Since the system is closed, we can see from the chart above that the bikes are migrating, because certain stations are running deficits (being used more often as a start station than a stop station) and other stations are running surpluses (collecting bikes because they are being used more often as a stop station than a start station). \n",
    "The system operator will have to round up bikes from stations running surpluses and return them to stations runing deficits, because user behavior alone is creating and not eliminating surpluses and deficits. \n",
    "How many bikes would the operator need to relocate in this two-month period?"
   ]
  },
  {
   "cell_type": "code",
   "execution_count": 24,
   "metadata": {},
   "outputs": [
    {
     "data": {
      "text/plain": [
       "107068"
      ]
     },
     "execution_count": 24,
     "metadata": {},
     "output_type": "execute_result"
    }
   ],
   "source": [
    "df_start_stop['Deficit'].abs().sum()"
   ]
  },
  {
   "cell_type": "markdown",
   "metadata": {},
   "source": [
    "This experiment intends to explore this curious migration effect, in which some stations will run out of bikes and others will overflow, unless the bikes are re-allocated by the system operator.\n",
    "Insights gained from changing the numbers of bikes at each station will be useful to the system operator in the future as it develops or improves an algorithm that most efficiently allocates and re-distribute bikes between stations.\n",
    "With further experimentation, it should be possible to develop an algorithm to most efficiently reallocate bikes during the day, based on the time of day, predicted user behavior, and the magnitude and direction of the migration effect at each station. The algorithm will instruct the system operator from which station to pick up bikes at a given time and to which station to return them.\n",
    "Initially, we will test adding bikes at a single location in a controlled experiment."
   ]
  },
  {
   "cell_type": "markdown",
   "metadata": {},
   "source": [
    "## Hypothesis"
   ]
  },
  {
   "cell_type": "markdown",
   "metadata": {},
   "source": [
    "Our hypothesis is that adding bikes to a given bike station at the beginning of the day (before peak commuter time) will increase the use of that station as a start station. The null hypothesis is that adding bikes to a given station at the beginning of the day has no effect on the use of that station as a start station."
   ]
  },
  {
   "cell_type": "markdown",
   "metadata": {},
   "source": [
    "## Design of the Experiment"
   ]
  },
  {
   "cell_type": "markdown",
   "metadata": {},
   "source": [
    "The experiment will use eight stations, selected based on having: a high deficit, many users, few users, and a high surplus. By selecting two stations in each of the four categories, we will be able to observe the presence or absence of an effect from adding bikes in each situation and have two stations to reduce random effects relative to only selecting one station. Specifically, we will rank order the stations in four different ways in order to select the stations. First, the stations with a high deficit:"
   ]
  },
  {
   "cell_type": "code",
   "execution_count": 30,
   "metadata": {},
   "outputs": [
    {
     "data": {
      "text/html": [
       "<div>\n",
       "<style>\n",
       "    .dataframe thead tr:only-child th {\n",
       "        text-align: right;\n",
       "    }\n",
       "\n",
       "    .dataframe thead th {\n",
       "        text-align: left;\n",
       "    }\n",
       "\n",
       "    .dataframe tbody tr th {\n",
       "        vertical-align: top;\n",
       "    }\n",
       "</style>\n",
       "<table border=\"1\" class=\"dataframe\">\n",
       "  <thead>\n",
       "    <tr style=\"text-align: right;\">\n",
       "      <th></th>\n",
       "      <th>Start Count</th>\n",
       "      <th>Stop Count</th>\n",
       "      <th>Deficit</th>\n",
       "    </tr>\n",
       "    <tr>\n",
       "      <th>start station id</th>\n",
       "      <th></th>\n",
       "      <th></th>\n",
       "      <th></th>\n",
       "    </tr>\n",
       "  </thead>\n",
       "  <tbody>\n",
       "    <tr>\n",
       "      <th>3230</th>\n",
       "      <td>12464</td>\n",
       "      <td>7192</td>\n",
       "      <td>5272</td>\n",
       "    </tr>\n",
       "    <tr>\n",
       "      <th>3236</th>\n",
       "      <td>9323</td>\n",
       "      <td>4725</td>\n",
       "      <td>4598</td>\n",
       "    </tr>\n",
       "  </tbody>\n",
       "</table>\n",
       "</div>"
      ],
      "text/plain": [
       "                  Start Count  Stop Count  Deficit\n",
       "start station id                                  \n",
       "3230                    12464        7192     5272\n",
       "3236                     9323        4725     4598"
      ]
     },
     "execution_count": 30,
     "metadata": {},
     "output_type": "execute_result"
    }
   ],
   "source": [
    "df_start_stop.sort_values('Deficit',ascending=False).head(2)"
   ]
  },
  {
   "cell_type": "markdown",
   "metadata": {},
   "source": [
    "Second, the stations with many users:"
   ]
  },
  {
   "cell_type": "code",
   "execution_count": 7,
   "metadata": {},
   "outputs": [
    {
     "data": {
      "text/html": [
       "<div>\n",
       "<style>\n",
       "    .dataframe thead tr:only-child th {\n",
       "        text-align: right;\n",
       "    }\n",
       "\n",
       "    .dataframe thead th {\n",
       "        text-align: left;\n",
       "    }\n",
       "\n",
       "    .dataframe tbody tr th {\n",
       "        vertical-align: top;\n",
       "    }\n",
       "</style>\n",
       "<table border=\"1\" class=\"dataframe\">\n",
       "  <thead>\n",
       "    <tr style=\"text-align: right;\">\n",
       "      <th></th>\n",
       "      <th>Start Count</th>\n",
       "      <th>Stop Count</th>\n",
       "      <th>Deficit</th>\n",
       "    </tr>\n",
       "    <tr>\n",
       "      <th>start station id</th>\n",
       "      <th></th>\n",
       "      <th></th>\n",
       "      <th></th>\n",
       "    </tr>\n",
       "  </thead>\n",
       "  <tbody>\n",
       "    <tr>\n",
       "      <th>519</th>\n",
       "      <td>29605</td>\n",
       "      <td>29034</td>\n",
       "      <td>571</td>\n",
       "    </tr>\n",
       "    <tr>\n",
       "      <th>426</th>\n",
       "      <td>23525</td>\n",
       "      <td>23630</td>\n",
       "      <td>-105</td>\n",
       "    </tr>\n",
       "  </tbody>\n",
       "</table>\n",
       "</div>"
      ],
      "text/plain": [
       "                  Start Count  Stop Count  Deficit\n",
       "start station id                                  \n",
       "519                     29605       29034      571\n",
       "426                     23525       23630     -105"
      ]
     },
     "execution_count": 7,
     "metadata": {},
     "output_type": "execute_result"
    }
   ],
   "source": [
    "df_start_stop.sort_values('Start Count',ascending=False).head(2)"
   ]
  },
  {
   "cell_type": "markdown",
   "metadata": {},
   "source": [
    "Third, the stations with few users:"
   ]
  },
  {
   "cell_type": "code",
   "execution_count": 8,
   "metadata": {},
   "outputs": [
    {
     "data": {
      "text/html": [
       "<div>\n",
       "<style>\n",
       "    .dataframe thead tr:only-child th {\n",
       "        text-align: right;\n",
       "    }\n",
       "\n",
       "    .dataframe thead th {\n",
       "        text-align: left;\n",
       "    }\n",
       "\n",
       "    .dataframe tbody tr th {\n",
       "        vertical-align: top;\n",
       "    }\n",
       "</style>\n",
       "<table border=\"1\" class=\"dataframe\">\n",
       "  <thead>\n",
       "    <tr style=\"text-align: right;\">\n",
       "      <th></th>\n",
       "      <th>Start Count</th>\n",
       "      <th>Stop Count</th>\n",
       "      <th>Deficit</th>\n",
       "    </tr>\n",
       "    <tr>\n",
       "      <th>start station id</th>\n",
       "      <th></th>\n",
       "      <th></th>\n",
       "      <th></th>\n",
       "    </tr>\n",
       "  </thead>\n",
       "  <tbody>\n",
       "    <tr>\n",
       "      <th>3036</th>\n",
       "      <td>2</td>\n",
       "      <td>2</td>\n",
       "      <td>0</td>\n",
       "    </tr>\n",
       "    <tr>\n",
       "      <th>3017</th>\n",
       "      <td>3</td>\n",
       "      <td>56</td>\n",
       "      <td>-53</td>\n",
       "    </tr>\n",
       "  </tbody>\n",
       "</table>\n",
       "</div>"
      ],
      "text/plain": [
       "                  Start Count  Stop Count  Deficit\n",
       "start station id                                  \n",
       "3036                        2           2        0\n",
       "3017                        3          56      -53"
      ]
     },
     "execution_count": 8,
     "metadata": {},
     "output_type": "execute_result"
    }
   ],
   "source": [
    "df_start_stop.sort_values('Start Count',ascending=True).head(2)"
   ]
  },
  {
   "cell_type": "markdown",
   "metadata": {},
   "source": [
    "Fourth, the stations with a high surplus:"
   ]
  },
  {
   "cell_type": "code",
   "execution_count": 9,
   "metadata": {},
   "outputs": [
    {
     "data": {
      "text/html": [
       "<div>\n",
       "<style>\n",
       "    .dataframe thead tr:only-child th {\n",
       "        text-align: right;\n",
       "    }\n",
       "\n",
       "    .dataframe thead th {\n",
       "        text-align: left;\n",
       "    }\n",
       "\n",
       "    .dataframe tbody tr th {\n",
       "        vertical-align: top;\n",
       "    }\n",
       "</style>\n",
       "<table border=\"1\" class=\"dataframe\">\n",
       "  <thead>\n",
       "    <tr style=\"text-align: right;\">\n",
       "      <th></th>\n",
       "      <th>Start Count</th>\n",
       "      <th>Stop Count</th>\n",
       "      <th>Deficit</th>\n",
       "    </tr>\n",
       "    <tr>\n",
       "      <th>start station id</th>\n",
       "      <th></th>\n",
       "      <th></th>\n",
       "      <th></th>\n",
       "    </tr>\n",
       "  </thead>\n",
       "  <tbody>\n",
       "    <tr>\n",
       "      <th>432</th>\n",
       "      <td>12618</td>\n",
       "      <td>15403</td>\n",
       "      <td>-2785</td>\n",
       "    </tr>\n",
       "    <tr>\n",
       "      <th>492</th>\n",
       "      <td>11961</td>\n",
       "      <td>13858</td>\n",
       "      <td>-1897</td>\n",
       "    </tr>\n",
       "  </tbody>\n",
       "</table>\n",
       "</div>"
      ],
      "text/plain": [
       "                  Start Count  Stop Count  Deficit\n",
       "start station id                                  \n",
       "432                     12618       15403    -2785\n",
       "492                     11961       13858    -1897"
      ]
     },
     "execution_count": 9,
     "metadata": {},
     "output_type": "execute_result"
    }
   ],
   "source": [
    "df_start_stop.sort_values('Deficit',ascending=True).head(2)"
   ]
  },
  {
   "cell_type": "markdown",
   "metadata": {},
   "source": [
    "Accordingly, the eight stations selected for the experiment will be: 3230, 3236, 519, 426, 3036, 3017, 432, and 492. \n",
    "We will add a number of bikes equal to the mean daily positive bike deficit for the stations during June and July of 2016, so that our choice of the number of bikes added is derived from prior observation."
   ]
  },
  {
   "cell_type": "code",
   "execution_count": 33,
   "metadata": {},
   "outputs": [
    {
     "name": "stdout",
     "output_type": "stream",
     "text": [
      "4\n"
     ]
    }
   ],
   "source": [
    "selector = df_start_stop.Deficit.map(lambda x:x>0)\n",
    "df_deficit_positive = df_start_stop.loc[selector,:]\n",
    "bikes_to_add = df_deficit_positive.Deficit.mean()/60\n",
    "print(int(bikes_to_add))"
   ]
  },
  {
   "cell_type": "markdown",
   "metadata": {},
   "source": [
    "We will add the four bikes at 5:30am (when very few users are present), in order to minimize the impact of the experimental process on user behavior. \n",
    "We will add the bikes on alternate days during a 14-day period - chosen so that both the test (A) and control (B) groups will be measured on each of the days of the week an even number of times. \n",
    "We will conduct the experiment as an A/B Test, with the experiment group being riders departing the station on the 7 days on which bikes are added, and the control group being riders departing the station on the 7 days on which bikes are not added.\n",
    "We will also measure the same stations in the 14-day period following the experiment, with the A group receiving no treatment and the B group being a control, as a further check on the validity of the experimental method."
   ]
  },
  {
   "cell_type": "markdown",
   "metadata": {},
   "source": [
    "## Analysis Plan"
   ]
  },
  {
   "cell_type": "markdown",
   "metadata": {},
   "source": [
    "We will measure start station (ridership) for the A-group and the B-group in each of the four categories and both of the 14-day periods, and compare using a T-test and p-value to see if any change in ridership is statistically-significant or is instead due to random noise in the underlying data (daily fluctuations in ridership). A p-value less than 0.05 in a two-tailed t-test will falsify the null hypothesis that adding bikes has no effect on the use of a given station as a start station."
   ]
  }
 ],
 "metadata": {
  "kernelspec": {
   "display_name": "Python 3",
   "language": "python",
   "name": "python3"
  },
  "language_info": {
   "codemirror_mode": {
    "name": "ipython",
    "version": 3
   },
   "file_extension": ".py",
   "mimetype": "text/x-python",
   "name": "python",
   "nbconvert_exporter": "python",
   "pygments_lexer": "ipython3",
   "version": "3.6.2"
  }
 },
 "nbformat": 4,
 "nbformat_minor": 2
}
